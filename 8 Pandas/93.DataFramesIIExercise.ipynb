{
 "cells": [
  {
   "cell_type": "code",
   "execution_count": 1,
   "metadata": {},
   "outputs": [],
   "source": [
    "import pandas as pd"
   ]
  },
  {
   "cell_type": "code",
   "execution_count": 4,
   "metadata": {},
   "outputs": [
    {
     "name": "stdout",
     "output_type": "stream",
     "text": [
      "                 Name  Age  Working Experience (Yrs.)\n",
      "0           Amy White   50                          5\n",
      "1        Jack Stewart   53                          8\n",
      "2  Richard Lauderdale   35                          3\n",
      "3        Sara Johnson   43                         10\n"
     ]
    }
   ],
   "source": [
    "import pandas as pd\n",
    "\n",
    "# Membuat pandas Series\n",
    "names = pd.Series([\"Amy White\", \"Jack Stewart\", \"Richard Lauderdale\", \"Sara Johnson\"])\n",
    "age = pd.Series([50, 53, 35, 43])\n",
    "working_experience_yrs = pd.Series([5, 8, 3, 10])\n",
    "\n",
    "# Membuat dictionary yang berisi pandas Series\n",
    "data = {\n",
    "    \"Name\": names,\n",
    "    \"Age\": age,\n",
    "    \"Working Experience (Yrs.)\": working_experience_yrs\n",
    "}\n",
    "\n",
    "# Membuat DataFrame\n",
    "df = pd.DataFrame(data)\n",
    "\n",
    "# Menampilkan DataFrame\n",
    "print(df)\n"
   ]
  },
  {
   "cell_type": "code",
   "execution_count": 5,
   "metadata": {},
   "outputs": [
    {
     "name": "stdout",
     "output_type": "stream",
     "text": [
      "                 Name  Age  Working Experience (Yrs.)\n",
      "0           Amy White   50                          5\n",
      "1        Jack Stewart   53                          8\n",
      "2  Richard Lauderdale   35                          3\n",
      "3        Sara Johnson   43                         10\n"
     ]
    }
   ],
   "source": [
    "data = [\n",
    "    [\"Amy White\", 50, 5],\n",
    "    [\"Jack Stewart\", 53, 8],\n",
    "    [\"Richard Lauderdale\", 35, 3],\n",
    "    [\"Sara Johnson\", 43, 10]\n",
    "]\n",
    "\n",
    "# Membuat DataFrame dari list\n",
    "df = pd.DataFrame(data, columns=[\"Name\", \"Age\", \"Working Experience (Yrs.)\"])\n",
    "\n",
    "# Menampilkan DataFrame\n",
    "print(df)"
   ]
  },
  {
   "cell_type": "code",
   "execution_count": 6,
   "metadata": {},
   "outputs": [
    {
     "name": "stdout",
     "output_type": "stream",
     "text": [
      "                 Name  Age  Working Experience (Yrs.)\n",
      "1           Amy White   50                          5\n",
      "2        Jack Stewart   53                          8\n",
      "3  Richard Lauderdale   35                          3\n",
      "4        Sara Johnson   43                         10\n"
     ]
    }
   ],
   "source": [
    "import pandas as pd\n",
    "\n",
    "# Data awal\n",
    "data = {\n",
    "    \"Name\": ['Amy White', 'Jack Stewart', 'Richard Lauderdale', 'Sara Johnson'], \n",
    "    \"Age\": [50, 53, 35, 43], \n",
    "    \"Working Experience (Yrs.)\": [5, 8, 3, 10]\n",
    "}\n",
    "\n",
    "# Membuat DataFrame dengan index mulai dari 1\n",
    "df = pd.DataFrame(data, index=range(1, len(data[\"Name\"]) + 1))\n",
    "\n",
    "# Menampilkan DataFrame\n",
    "print(df)\n"
   ]
  }
 ],
 "metadata": {
  "kernelspec": {
   "display_name": "Python 3",
   "language": "python",
   "name": "python3"
  },
  "language_info": {
   "codemirror_mode": {
    "name": "ipython",
    "version": 3
   },
   "file_extension": ".py",
   "mimetype": "text/x-python",
   "name": "python",
   "nbconvert_exporter": "python",
   "pygments_lexer": "ipython3",
   "version": "3.11.5"
  }
 },
 "nbformat": 4,
 "nbformat_minor": 2
}
