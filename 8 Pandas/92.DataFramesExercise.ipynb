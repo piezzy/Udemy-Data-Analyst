{
 "cells": [
  {
   "cell_type": "code",
   "execution_count": 8,
   "metadata": {},
   "outputs": [],
   "source": [
    "import pandas as pd"
   ]
  },
  {
   "cell_type": "code",
   "execution_count": 12,
   "metadata": {},
   "outputs": [
    {
     "name": "stdout",
     "output_type": "stream",
     "text": [
      "                 Name  Age  Working Experience\n",
      "0           Amy White   50                   5\n",
      "1        Jack Stewart   53                   8\n",
      "2  Richard Lauderdale   35                   3\n",
      "3        Sara Johnson   43                  10\n",
      "{'Name': ['Amy White', 'Jack Stewart', 'Richard Lauderdale', 'Sara Johnson'], 'Age': [50, 53, 35, 43], 'Working Experience': [5, 8, 3, 10]}\n"
     ]
    }
   ],
   "source": [
    "data = {'Name' : ['Amy White', 'Jack Stewart', 'Richard Lauderdale', 'Sara Johnson'],\n",
    "        'Age' : [50, 53, 35, 43],\n",
    "        'Working Experience' : [5, 8, 3, 10]}\n",
    "df = pd.DataFrame(data)\n",
    "print(df)\n",
    "print(data)"
   ]
  },
  {
   "cell_type": "code",
   "execution_count": 11,
   "metadata": {},
   "outputs": [
    {
     "name": "stdout",
     "output_type": "stream",
     "text": [
      "{'Name': ['Amy White', 'Jack Stewart', 'Richard Lauderdale', 'Sara Johnson'], 'Age': [50, 53, 35, 43], 'Working Experience': [5, 8, 3, 10]}\n"
     ]
    }
   ],
   "source": [
    "data = {'Name' : ['Amy White', 'Jack Stewart', 'Richard Lauderdale', 'Sara Johnson'],\n",
    "        'Age' : [50, 53, 35, 43],\n",
    "        'Working Experience' : [5, 8, 3, 10]}\n",
    "print(data)"
   ]
  }
 ],
 "metadata": {
  "kernelspec": {
   "display_name": "Python 3",
   "language": "python",
   "name": "python3"
  },
  "language_info": {
   "codemirror_mode": {
    "name": "ipython",
    "version": 3
   },
   "file_extension": ".py",
   "mimetype": "text/x-python",
   "name": "python",
   "nbconvert_exporter": "python",
   "pygments_lexer": "ipython3",
   "version": "3.11.5"
  }
 },
 "nbformat": 4,
 "nbformat_minor": 2
}
