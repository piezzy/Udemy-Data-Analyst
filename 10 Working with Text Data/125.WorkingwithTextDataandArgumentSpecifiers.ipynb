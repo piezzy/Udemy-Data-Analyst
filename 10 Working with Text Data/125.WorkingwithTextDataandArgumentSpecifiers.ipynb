{
 "cells": [
  {
   "cell_type": "code",
   "execution_count": 5,
   "metadata": {},
   "outputs": [
    {
     "name": "stdout",
     "output_type": "stream",
     "text": [
      "this item is for product category \"d\".\n"
     ]
    }
   ],
   "source": [
    "product_category = ['a', 'b', 'c', 'd', 'e']\n",
    "print('this item is for product category \"%s\".' % product_category[3])"
   ]
  },
  {
   "cell_type": "code",
   "execution_count": 9,
   "metadata": {},
   "outputs": [
    {
     "name": "stdout",
     "output_type": "stream",
     "text": [
      "this item is for product category \"4\".\n"
     ]
    }
   ],
   "source": [
    "quantities = [1, 2, 3, 4, 5]\n",
    "print('this item is for product category \"%s\".' % quantities[3])"
   ]
  },
  {
   "cell_type": "code",
   "execution_count": 10,
   "metadata": {},
   "outputs": [
    {
     "name": "stdout",
     "output_type": "stream",
     "text": [
      "we currently have 4 items in stock.\n"
     ]
    }
   ],
   "source": [
    "print('we currently have %d items in stock.' % quantities[3])"
   ]
  },
  {
   "cell_type": "code",
   "execution_count": 14,
   "metadata": {},
   "outputs": [
    {
     "name": "stdout",
     "output_type": "stream",
     "text": [
      "the stock price for this item is currently $70.000.\n"
     ]
    }
   ],
   "source": [
    "stock_share_price_list = [40, 50, 60, 70, 80]\n",
    "print('the stock price for this item is currently $%.3f.' % stock_share_price_list[3])"
   ]
  },
  {
   "cell_type": "code",
   "execution_count": 15,
   "metadata": {},
   "outputs": [
    {
     "name": "stdout",
     "output_type": "stream",
     "text": [
      "currently, we have 2 units of category \"b\" in stock.\n"
     ]
    }
   ],
   "source": [
    "i = 1\n",
    "print(\"currently, we have %d units of category \\\"%s\\\" in stock.\" % (quantities[i], product_category[i]))"
   ]
  },
  {
   "cell_type": "code",
   "execution_count": null,
   "metadata": {},
   "outputs": [],
   "source": []
  }
 ],
 "metadata": {
  "kernelspec": {
   "display_name": "Python 3",
   "language": "python",
   "name": "python3"
  },
  "language_info": {
   "codemirror_mode": {
    "name": "ipython",
    "version": 3
   },
   "file_extension": ".py",
   "mimetype": "text/x-python",
   "name": "python",
   "nbconvert_exporter": "python",
   "pygments_lexer": "ipython3",
   "version": "3.11.5"
  }
 },
 "nbformat": 4,
 "nbformat_minor": 2
}
