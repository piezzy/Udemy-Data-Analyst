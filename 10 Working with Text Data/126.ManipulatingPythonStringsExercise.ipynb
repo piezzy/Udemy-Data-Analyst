{
 "cells": [
  {
   "cell_type": "code",
   "execution_count": 1,
   "metadata": {},
   "outputs": [],
   "source": [
    "car_shop = ['Fast Cars', 'Elegant Cars']\n",
    "car_brand = ['Audi', 'Ford']\n",
    "number_of_cars_for_sale = [1000, 1200]\n",
    "price_of_model = 37500.50"
   ]
  },
  {
   "cell_type": "code",
   "execution_count": null,
   "metadata": {},
   "outputs": [
    {
     "name": "stdout",
     "output_type": "stream",
     "text": [
      "Current list of car shops: \n",
      "\"Fast Cars\" \n",
      "\"Elegant Cars\"\n"
     ]
    }
   ],
   "source": [
    "print('Current list of local car shops: \\n\"%s\" \\n\"%s\"' % (car_shop[0], car_shop[1]))"
   ]
  },
  {
   "cell_type": "code",
   "execution_count": null,
   "metadata": {},
   "outputs": [
    {
     "name": "stdout",
     "output_type": "stream",
     "text": [
      "Category A is our best category of products.  \n"
     ]
    }
   ],
   "source": [
    "print('Category A is our best category of products.  \\rProduct A1')\n",
    "print(\"Product A1 is our best category of products. \\rCategory A\")"
   ]
  },
  {
   "cell_type": "code",
   "execution_count": 7,
   "metadata": {},
   "outputs": [
    {
     "name": "stdout",
     "output_type": "stream",
     "text": [
      "The \"Fast Cars\" shop are expecting to sell 1000 units of the new Audi model next year. The \"Elegant Cars\" shop are expecting to sell 1200 units of the new Ford model next year.\n"
     ]
    }
   ],
   "source": [
    "print('The \"%s\" shop are expecting to sell %d units of the new %s model next year. The \"%s\" shop are expecting to sell %d units of the new %s model next year.' % (car_shop[0], number_of_cars_for_sale[0], car_brand[0], car_shop[1], number_of_cars_for_sale[1], car_brand[1]))"
   ]
  },
  {
   "cell_type": "code",
   "execution_count": 10,
   "metadata": {},
   "outputs": [
    {
     "name": "stdout",
     "output_type": "stream",
     "text": [
      "The \"Fast Cars\" shop are expecting to sell 1000 units of the new Audi model next year. \tThe \"Elegant Cars\" shop are expecting to sell 1200 units of the new Ford model next year.\n"
     ]
    }
   ],
   "source": [
    "print(\"The \\\"%s\\\" shop are expecting to sell %d units of the new %s model next year. \\t\"\n",
    "      \"The \\\"%s\\\" shop are expecting to sell %d units of the new %s model next year.\"\n",
    "      % (car_shop[0], number_of_cars_for_sale[0], car_brand[0], \n",
    "         car_shop[1], number_of_cars_for_sale[1], car_brand[1]))\n"
   ]
  }
 ],
 "metadata": {
  "kernelspec": {
   "display_name": "Python 3",
   "language": "python",
   "name": "python3"
  },
  "language_info": {
   "codemirror_mode": {
    "name": "ipython",
    "version": 3
   },
   "file_extension": ".py",
   "mimetype": "text/x-python",
   "name": "python",
   "nbconvert_exporter": "python",
   "pygments_lexer": "ipython3",
   "version": "3.11.5"
  }
 },
 "nbformat": 4,
 "nbformat_minor": 2
}
