{
 "cells": [
  {
   "cell_type": "code",
   "execution_count": 1,
   "metadata": {},
   "outputs": [
    {
     "name": "stdout",
     "output_type": "stream",
     "text": [
      "True\n"
     ]
    }
   ],
   "source": [
    "filename = 'source.txt'\n",
    "\n",
    "file = open(filename, 'r')\n",
    "text = file.read()\n",
    "file.close()\n",
    "\n",
    "print(file.closed)"
   ]
  },
  {
   "cell_type": "code",
   "execution_count": null,
   "metadata": {},
   "outputs": [
    {
     "name": "stdout",
     "output_type": "stream",
     "text": [
      "hellaout\n",
      "hellaout\n"
     ]
    }
   ],
   "source": [
    "filename = 'source.txt'\n",
    "\n",
    "file = open(filename, mode='r')\n",
    "text = file.read()\n",
    "\n",
    "print(text)\n",
    "\n",
    "with open(filename, mode='r') as out_file:\n",
    "    print(out_file)"
   ]
  },
  {
   "cell_type": "code",
   "execution_count": 1,
   "metadata": {},
   "outputs": [
    {
     "name": "stdout",
     "output_type": "stream",
     "text": [
      "<_io.TextIOWrapper name='source.txt' mode='w' encoding='cp1252'>\n"
     ]
    }
   ],
   "source": [
    "filename = 'source.txt'\n",
    "\n",
    "with open(filename, 'w') as out_file:\n",
    "    out_file.write(\"It is not so simple anymore!\")  # Menimpa isi file\n",
    "\n",
    "print(out_file)\n"
   ]
  },
  {
   "cell_type": "code",
   "execution_count": 2,
   "metadata": {},
   "outputs": [
    {
     "name": "stdout",
     "output_type": "stream",
     "text": [
      "It is not so simple anymore!\n"
     ]
    }
   ],
   "source": [
    "filename = 'source.txt'\n",
    "\n",
    "with open(filename, mode='w') as out_file:\n",
    "    out_file.write(\"It is not so simple anymore!\")\n",
    "\n",
    "file = open(filename, mode='r')\n",
    "text = file.read()  \n",
    "file.close()  \n",
    "\n",
    "print(text)\n"
   ]
  },
  {
   "cell_type": "code",
   "execution_count": 3,
   "metadata": {},
   "outputs": [
    {
     "name": "stdout",
     "output_type": "stream",
     "text": [
      "It is not so simple anymore!\n"
     ]
    }
   ],
   "source": [
    "filename='source.txt'\n",
    "\n",
    "with open(filename, mode = 'w') as out_file:\n",
    "    out_file.write(\"It is not so simple anymore!\")\n",
    "\n",
    "with open(filename, mode='r') as in_file:\n",
    "    new_text = in_file.read()\n",
    "\n",
    "print(new_text)"
   ]
  }
 ],
 "metadata": {
  "kernelspec": {
   "display_name": "Python 3",
   "language": "python",
   "name": "python3"
  },
  "language_info": {
   "codemirror_mode": {
    "name": "ipython",
    "version": 3
   },
   "file_extension": ".py",
   "mimetype": "text/x-python",
   "name": "python",
   "nbconvert_exporter": "python",
   "pygments_lexer": "ipython3",
   "version": "3.11.5"
  }
 },
 "nbformat": 4,
 "nbformat_minor": 2
}
