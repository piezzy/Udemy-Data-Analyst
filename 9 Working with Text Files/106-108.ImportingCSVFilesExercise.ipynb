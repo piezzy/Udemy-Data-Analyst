{
 "cells": [
  {
   "cell_type": "code",
   "execution_count": 4,
   "metadata": {},
   "outputs": [
    {
     "name": "stdout",
     "output_type": "stream",
     "text": [
      "<class 'str'>\n"
     ]
    }
   ],
   "source": [
    "filename = 'Lending-company.csv'\n",
    "\n",
    "with open(filename, 'r') as file:\n",
    "    text = file.read()\n",
    "\n",
    "print(type(text))\n"
   ]
  },
  {
   "cell_type": "code",
   "execution_count": 5,
   "metadata": {},
   "outputs": [
    {
     "name": "stdout",
     "output_type": "stream",
     "text": [
      "      LoanID     StringID    Product CustomerGender     Location    Region  \\\n",
      "0          1     LoanID_1  Product B         Female   Location 3  Region 2   \n",
      "1          2     LoanID_2  Product D         Female   Location 6  Region 6   \n",
      "2          3     LoanID_3  Product B           Male   Location 8  Region 3   \n",
      "3          4     LoanID_4  Product A           Male  Location 26  Region 2   \n",
      "4          5     LoanID_5  Product B         Female  Location 34  Region 3   \n",
      "...      ...          ...        ...            ...          ...       ...   \n",
      "1038    1039  LoanID_1039  Product B           Male  Location 73  Region 6   \n",
      "1039    1040  LoanID_1040  Product A           Male  Location 82  Region 1   \n",
      "1040    1041  LoanID_1041  Product A   NotSpecified  Location 11  Region 4   \n",
      "1041    1042  LoanID_1042  Product B         Female  Location 26  Region 6   \n",
      "1042    1043  LoanID_1043  Product A   NotSpecified  Location 94  Region 6   \n",
      "\n",
      "      TotalPrice   StartDate  Deposit  DailyRate  TotalDaysYr  AmtPaid36  \\\n",
      "0        17600.0  04/07/2018     2200         45          365       3221   \n",
      "1            NaN  02/01/2019     2200         45          365       3161   \n",
      "2        16600.0  08/12/2016     1000         45          365       2260   \n",
      "3        17600.0         NaN     2200         45          365       3141   \n",
      "4        21250.0  28/10/2017     2200         55          365       3570   \n",
      "...          ...         ...      ...        ...          ...        ...   \n",
      "1038     17300.0  29/12/2018     2200         45          365       3251   \n",
      "1039         NaN  28/03/2018     2200         45          365       4090   \n",
      "1040     17300.0  26/04/2018     2200         45          365       4051   \n",
      "1041     16300.0  25/10/2016     1000         45          365       1930   \n",
      "1042     17300.0  15/05/2019     2200         45          365       4451   \n",
      "\n",
      "      AmtPaid60  AmtPaid360        LoanStatus  \n",
      "0          4166       14621            Active  \n",
      "1          4096       16041            Active  \n",
      "2          3205       16340               NaN  \n",
      "3          4166       16321            Active  \n",
      "4          4745       14720            Active  \n",
      "...         ...         ...               ...  \n",
      "1038       4743       16617  Finished Payment  \n",
      "1039       5582       16617  Finished Payment  \n",
      "1040       5143       16617  Finished Payment  \n",
      "1041       3462       15617  Finished Payment  \n",
      "1042       4743       16617  Finished Payment  \n",
      "\n",
      "[1043 rows x 15 columns]\n"
     ]
    }
   ],
   "source": [
    "import pandas as pd\n",
    "df = pd.read_csv(filename)\n",
    "print(df)\n"
   ]
  },
  {
   "cell_type": "code",
   "execution_count": 6,
   "metadata": {},
   "outputs": [
    {
     "name": "stdout",
     "output_type": "stream",
     "text": [
      "<class 'pandas.core.frame.DataFrame'>\n"
     ]
    }
   ],
   "source": [
    "print(type(df))"
   ]
  },
  {
   "cell_type": "code",
   "execution_count": null,
   "metadata": {},
   "outputs": [
    {
     "name": "stdout",
     "output_type": "stream",
     "text": [
      "<class 'pandas.core.frame.DataFrame'>\n"
     ]
    }
   ],
   "source": [
    "filename = 'Lending-company.csv'\n",
    "\n",
    "my_csv_data = pd.read_csv(filename)\n",
    "print(my_csv_data)"
   ]
  },
  {
   "cell_type": "code",
   "execution_count": 9,
   "metadata": {},
   "outputs": [
    {
     "name": "stdout",
     "output_type": "stream",
     "text": [
      "<class 'pandas.core.frame.DataFrame'>\n"
     ]
    }
   ],
   "source": [
    "print(type(my_csv_data))"
   ]
  },
  {
   "cell_type": "code",
   "execution_count": null,
   "metadata": {},
   "outputs": [],
   "source": []
  }
 ],
 "metadata": {
  "kernelspec": {
   "display_name": "Python 3",
   "language": "python",
   "name": "python3"
  },
  "language_info": {
   "codemirror_mode": {
    "name": "ipython",
    "version": 3
   },
   "file_extension": ".py",
   "mimetype": "text/x-python",
   "name": "python",
   "nbconvert_exporter": "python",
   "pygments_lexer": "ipython3",
   "version": "3.11.5"
  }
 },
 "nbformat": 4,
 "nbformat_minor": 2
}
